{
 "cells": [
  {
   "cell_type": "code",
   "execution_count": 4,
   "metadata": {
    "collapsed": true,
    "scrolled": true
   },
   "outputs": [],
   "source": [
    "import pyPING_objects as ping\n",
    "import pyPING_checks as check\n",
    "import pyPING_supporting as support\n",
    "import os"
   ]
  },
  {
   "cell_type": "code",
   "execution_count": 5,
   "metadata": {
    "collapsed": true
   },
   "outputs": [],
   "source": [
    "sample_location = '../RAW_SEQUENCES/'\n",
    "bowtie_threads = 8\n",
    "sequence_group = os.path.basename(os.path.normpath(sample_location))\n",
    "results_directory = ''\n",
    "min_read_cutoff = 10000"
   ]
  },
  {
   "cell_type": "code",
   "execution_count": 6,
   "metadata": {
    "collapsed": false,
    "scrolled": true
   },
   "outputs": [
    {
     "name": "stdout",
     "output_type": "stream",
     "text": [
      "bowtie2 has been found and can be accessed.\n",
      "\n",
      "Automatically finding paired sequences.\n",
      "\n",
      "It took 0.0003161430358886719s to match 3 pairs.\n",
      "\n",
      "\n",
      "\n",
      "KIR reads found for: IND03978_S75_L001_R\n",
      "\n",
      "Name: IND03978_S75_L001_R\n",
      "Group: RAW_SEQUENCES\n",
      "Results Directory: Results/RAW_SEQUENCES_results\n",
      "File Location: ../RAW_SEQUENCES\n",
      "KIR extracted: True\n",
      "\n",
      "139405.0\n",
      "\n",
      "\n",
      "KIR reads found for: IND03977_S74_L001_R\n",
      "\n",
      "Name: IND03977_S74_L001_R\n",
      "Group: RAW_SEQUENCES\n",
      "Results Directory: Results/RAW_SEQUENCES_results\n",
      "File Location: ../RAW_SEQUENCES/IND03977-43208468\n",
      "KIR extracted: True\n",
      "\n",
      "138294.0\n",
      "\n",
      "\n",
      "KIR reads found for: IND03975_S72_L001_R\n",
      "\n",
      "Name: IND03975_S72_L001_R\n",
      "Group: RAW_SEQUENCES\n",
      "Results Directory: Results/RAW_SEQUENCES_results\n",
      "File Location: ../RAW_SEQUENCES/Even_Deeper/IND03975-43224285\n",
      "KIR extracted: True\n",
      "\n",
      "77252.0\n"
     ]
    }
   ],
   "source": [
    "# Check that bowtie2 can be accessed\n",
    "check.bowtie2()\n",
    "\n",
    "results_directory = support.build_results_directory(results_directory, sequence_group)\n",
    "\n",
    "sample_name_list, sample_path_list = support.sample_finder(sample_location)\n",
    "sample_dictionary = support.match_finder(sample_name_list, sample_path_list)\n",
    "sample_list = support.sample_builder(sample_dictionary, sequence_group, results_directory)\n",
    "\n",
    "\n",
    "for sample in sample_list:\n",
    "    sample.kir_extract(os.path.normpath('KIR_sequences/'), bowtie_threads)\n",
    "    print(sample)\n",
    "    print(sample.counts.read_count_total)"
   ]
  },
  {
   "cell_type": "code",
   "execution_count": null,
   "metadata": {
    "collapsed": true
   },
   "outputs": [],
   "source": []
  },
  {
   "cell_type": "code",
   "execution_count": 118,
   "metadata": {
    "collapsed": false,
    "scrolled": true
   },
   "outputs": [],
   "source": [
    "import pandas as pd\n",
    "import numpy as np\n",
    "import gzip\n",
    "import os\n",
    "import time"
   ]
  },
  {
   "cell_type": "code",
   "execution_count": 30,
   "metadata": {
    "collapsed": false
   },
   "outputs": [],
   "source": [
    "probelist_path = os.path.normpath('Reference/Probes/Probelist.csv')\n",
    "kff_threshold = 0.2\n",
    "\n",
    "probelist_table = pd.read_csv(probelist_path,header=0)\n",
    "\n",
    "## Get a list of sample names for initializing DataFrames\n",
    "sample_table_names = [sample.name for sample in sample_list]\n",
    "\n",
    "## Initialize dataframe for match counting\n",
    "sample_probe_match_table = pd.DataFrame(\n",
    "    np.zeros((len(sample_list),len(probelist_table))),\n",
    "    index = sample_table_names,\n",
    "    columns = probelist_table.loc[:,'Name'])"
   ]
  },
  {
   "cell_type": "code",
   "execution_count": 123,
   "metadata": {
    "collapsed": false,
    "scrolled": true
   },
   "outputs": [
    {
     "name": "stdout",
     "output_type": "stream",
     "text": [
      "Performing probe matching for: IND03978_S75_L001_R.\n",
      "\n",
      "\n",
      "Performing probe matching for: IND03977_S74_L001_R.\n",
      "\n",
      "\n",
      "Performing probe matching for: IND03975_S72_L001_R.\n",
      "\n",
      "\n",
      "Finished with probe matching.\n",
      "8834.737545013428\n"
     ]
    }
   ],
   "source": [
    "start = time.time()\n",
    "\n",
    "for sample in sample_list:\n",
    "    print(\"Performing probe matching for: \" + sample.name + \".\")\n",
    "\n",
    "    for index in probelist_table.index:\n",
    "        probe_string = probelist_table.iloc[index,:].Sequence.encode()\n",
    "    \n",
    "        with gzip.open(os.path.normpath(sample.kir_path_fastq_1), 'rb') as f:\n",
    "            for line in f:\n",
    "                if probe_string in line:\n",
    "                    probe_name = probelist_table.iloc[index,:].Name\n",
    "                    sample_probe_match_table.loc[sample.name,probe_name] += 1\n",
    "    \n",
    "        with gzip.open(os.path.normpath(sample.kir_path_fastq_2), 'rb') as f:\n",
    "            for line in f:\n",
    "                if probe_string in line:\n",
    "                    probe_name = probelist_table.iloc[index,:].Name\n",
    "                    sample_probe_match_table.loc[sample.name,probe_name] += 1\n",
    "    print(\"\\n\")\n",
    "\n",
    "print(\"Finished with probe matching.\")\n",
    "end = time.time()\n",
    "print(end - start)"
   ]
  },
  {
   "cell_type": "code",
   "execution_count": 150,
   "metadata": {
    "collapsed": false
   },
   "outputs": [
    {
     "data": {
      "text/html": [
       "<div>\n",
       "<table border=\"1\" class=\"dataframe\">\n",
       "  <thead>\n",
       "    <tr style=\"text-align: right;\">\n",
       "      <th></th>\n",
       "      <th>&gt;2DL1_</th>\n",
       "      <th>&gt;2DL23_</th>\n",
       "      <th>&gt;2DL4_</th>\n",
       "      <th>&gt;2DL5</th>\n",
       "      <th>&gt;2DP1_</th>\n",
       "      <th>&gt;2DS1_</th>\n",
       "      <th>&gt;2DS2_</th>\n",
       "      <th>&gt;2DS3_</th>\n",
       "      <th>&gt;2DS4_</th>\n",
       "      <th>&gt;2DS5_</th>\n",
       "      <th>&gt;3DL1_</th>\n",
       "      <th>&gt;3DL2_</th>\n",
       "      <th>&gt;3DL3_</th>\n",
       "      <th>&gt;3DP1_</th>\n",
       "      <th>&gt;3DS1_</th>\n",
       "    </tr>\n",
       "  </thead>\n",
       "  <tbody>\n",
       "    <tr>\n",
       "      <th>IND03978_S75_L001_R</th>\n",
       "      <td>0</td>\n",
       "      <td>1</td>\n",
       "      <td>1</td>\n",
       "      <td>1</td>\n",
       "      <td>0</td>\n",
       "      <td>0</td>\n",
       "      <td>1</td>\n",
       "      <td>0</td>\n",
       "      <td>0</td>\n",
       "      <td>1</td>\n",
       "      <td>1</td>\n",
       "      <td>1</td>\n",
       "      <td>1</td>\n",
       "      <td>1</td>\n",
       "      <td>1</td>\n",
       "    </tr>\n",
       "    <tr>\n",
       "      <th>IND03977_S74_L001_R</th>\n",
       "      <td>1</td>\n",
       "      <td>1</td>\n",
       "      <td>1</td>\n",
       "      <td>1</td>\n",
       "      <td>1</td>\n",
       "      <td>0</td>\n",
       "      <td>1</td>\n",
       "      <td>1</td>\n",
       "      <td>0</td>\n",
       "      <td>0</td>\n",
       "      <td>1</td>\n",
       "      <td>1</td>\n",
       "      <td>1</td>\n",
       "      <td>1</td>\n",
       "      <td>1</td>\n",
       "    </tr>\n",
       "    <tr>\n",
       "      <th>IND03975_S72_L001_R</th>\n",
       "      <td>1</td>\n",
       "      <td>1</td>\n",
       "      <td>1</td>\n",
       "      <td>0</td>\n",
       "      <td>1</td>\n",
       "      <td>0</td>\n",
       "      <td>1</td>\n",
       "      <td>0</td>\n",
       "      <td>1</td>\n",
       "      <td>0</td>\n",
       "      <td>1</td>\n",
       "      <td>1</td>\n",
       "      <td>1</td>\n",
       "      <td>0</td>\n",
       "      <td>1</td>\n",
       "    </tr>\n",
       "  </tbody>\n",
       "</table>\n",
       "</div>"
      ],
      "text/plain": [
       "                     >2DL1_  >2DL23_  >2DL4_  >2DL5  >2DP1_  >2DS1_  >2DS2_  \\\n",
       "IND03978_S75_L001_R       0        1       1      1       0       0       1   \n",
       "IND03977_S74_L001_R       1        1       1      1       1       0       1   \n",
       "IND03975_S72_L001_R       1        1       1      0       1       0       1   \n",
       "\n",
       "                     >2DS3_  >2DS4_  >2DS5_  >3DL1_  >3DL2_  >3DL3_  >3DP1_  \\\n",
       "IND03978_S75_L001_R       0       0       1       1       1       1       1   \n",
       "IND03977_S74_L001_R       1       0       0       1       1       1       1   \n",
       "IND03975_S72_L001_R       0       1       0       1       1       1       0   \n",
       "\n",
       "                     >3DS1_  \n",
       "IND03978_S75_L001_R       1  \n",
       "IND03977_S74_L001_R       1  \n",
       "IND03975_S72_L001_R       1  "
      ]
     },
     "execution_count": 150,
     "metadata": {},
     "output_type": "execute_result"
    }
   ],
   "source": [
    "kff_loci_list = ['>2DL1_', '>2DL23_', '>2DL4_', '>2DL5', '>2DP1_', '>2DS1_', '>2DS2_', '>2DS3_', '>2DS4_', '>2DS5_', \n",
    "                '>3DL1_', '>3DL2_', '>3DL3_', '>3DP1_', '>3DS1_']\n",
    "\n",
    "sample_probe_ratio_table = pd.DataFrame(\n",
    "    np.zeros((len(sample_list),len(kff_loci_list))),\n",
    "    index=sample_table_names,\n",
    "    columns=kff_loci_list)\n",
    "\n",
    "sample_probe_3DL3_sum_table = sample_probe_match_table.loc[:,[column for column in sample_probe_match_table.columns if '>3DL3_' in column]].sum(axis=1)\n",
    "\n",
    "for current_locus in kff_loci_list:\n",
    "\n",
    "    current_locus_sum_table = sample_probe_match_table.loc[:,[column for column in sample_probe_match_table.columns if current_locus in column]].sum(axis=1)\n",
    "\n",
    "    sample_probe_ratio_table.loc[:,current_locus] = current_locus_sum_table / sample_probe_3DL3_sum_table\n",
    "\n",
    "sample_probe_bool_table = sample_probe_ratio_table > kff_threshold\n",
    "sample_probe_bool_table = sample_probe_bool_table*1\n",
    "\n",
    "## Finished product\n",
    "sample_probe_bool_table"
   ]
  },
  {
   "cell_type": "code",
   "execution_count": null,
   "metadata": {
    "collapsed": false
   },
   "outputs": [],
   "source": []
  },
  {
   "cell_type": "code",
   "execution_count": null,
   "metadata": {
    "collapsed": false
   },
   "outputs": [],
   "source": []
  },
  {
   "cell_type": "code",
   "execution_count": null,
   "metadata": {
    "collapsed": true
   },
   "outputs": [],
   "source": []
  },
  {
   "cell_type": "code",
   "execution_count": null,
   "metadata": {
    "collapsed": true
   },
   "outputs": [],
   "source": []
  }
 ],
 "metadata": {
  "kernelspec": {
   "display_name": "Python 3",
   "language": "python",
   "name": "python3"
  },
  "language_info": {
   "codemirror_mode": {
    "name": "ipython",
    "version": 3
   },
   "file_extension": ".py",
   "mimetype": "text/x-python",
   "name": "python",
   "nbconvert_exporter": "python",
   "pygments_lexer": "ipython3",
   "version": "3.5.2"
  }
 },
 "nbformat": 4,
 "nbformat_minor": 1
}
