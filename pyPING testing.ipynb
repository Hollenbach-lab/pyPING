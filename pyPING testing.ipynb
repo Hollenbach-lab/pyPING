{
 "cells": [
  {
   "cell_type": "code",
   "execution_count": 108,
   "metadata": {
    "collapsed": true
   },
   "outputs": [],
   "source": [
    "import pickle\n",
    "import os\n",
    "import time"
   ]
  },
  {
   "cell_type": "code",
   "execution_count": 195,
   "metadata": {
    "collapsed": false
   },
   "outputs": [],
   "source": [
    "SampleDirectory = \"../RAW_SEQUENCES/\"\n",
    "recursive=True"
   ]
  },
  {
   "cell_type": "code",
   "execution_count": 196,
   "metadata": {
    "collapsed": false
   },
   "outputs": [
    {
     "data": {
      "text/plain": [
       "True"
      ]
     },
     "execution_count": 196,
     "metadata": {},
     "output_type": "execute_result"
    }
   ],
   "source": [
    "os.path.isdir(SampleDirectory)"
   ]
  },
  {
   "cell_type": "code",
   "execution_count": 281,
   "metadata": {
    "collapsed": false
   },
   "outputs": [],
   "source": [
    "assert os.path.isdir(SampleDirectory), \"%r is not a directory.\" % SampleDirectory\n",
    "\n",
    "directories = [x[0] for x in os.walk(SampleDirectory)]\n",
    "FileNames = [x[2] for x in os.walk(SampleDirectory)]\n",
    "\n",
    "SamplePathList = []\n",
    "SampleNameList = []\n",
    "\n",
    "if recursive:\n",
    "    for i in range(0, len(directories)):\n",
    "        [SamplePathList.append(os.path.join(directories[i], j)) for j in FileNames[i] if \"fastq\" in j]\n",
    "        [SampleNameList.append(j) for j in FileNames[i] if \"fastq\" in j]\n",
    "else:\n",
    "    [SamplePathList.append(os.path.join(directories[0], j)) for j in FileNames[0] if \"fastq\" in j]\n",
    "    [SampleNameList.append(j) for j in FileNames[0] if \"fastq\" in j]\n",
    "\n",
    "assert len(SamplePathList) is not 0, \"No samples found in %r\" % SampleDirectory"
   ]
  },
  {
   "cell_type": "code",
   "execution_count": 292,
   "metadata": {
    "collapsed": false
   },
   "outputs": [
    {
     "name": "stdout",
     "output_type": "stream",
     "text": [
      "['../RAW_SEQUENCES/', '../RAW_SEQUENCES/batch3_extracted_4-14-17', '../RAW_SEQUENCES/Even_Deeper', '../RAW_SEQUENCES/Even_Deeper/IND03975-43224285', '../RAW_SEQUENCES/IND03977-43208468']\n"
     ]
    },
    {
     "data": {
      "text/plain": [
       "[['.DS_Store',\n",
       "  'IND03978_S75_L001_R1_001.fastq.gz',\n",
       "  'IND03978_S75_L001_R2_001.fastq.gz'],\n",
       " ['IND01817_S41_L001__KIR_1.fastq.gz',\n",
       "  'IND01817_S41_L001__KIR_2.fastq.gz',\n",
       "  'IND01818_S42_L001__KIR_1.fastq.gz',\n",
       "  'IND01818_S42_L001__KIR_2.fastq.gz',\n",
       "  'IND01819_S43_L001__KIR_1.fastq.gz',\n",
       "  'IND01819_S43_L001__KIR_2.fastq.gz',\n",
       "  'IND01820_S44_L001__KIR_1.fastq.gz',\n",
       "  'IND01820_S44_L001__KIR_2.fastq.gz',\n",
       "  'IND01821_S45_L001__KIR_1.fastq.gz',\n",
       "  'IND01821_S45_L001__KIR_2.fastq.gz',\n",
       "  'IND01822_S46_L001__KIR_1.fastq.gz',\n",
       "  'IND01822_S46_L001__KIR_2.fastq.gz',\n",
       "  'IND01823_S47_L001__KIR_1.fastq.gz',\n",
       "  'IND01823_S47_L001__KIR_2.fastq.gz',\n",
       "  'IND01824_S48_L001__KIR_1.fastq.gz',\n",
       "  'IND01824_S48_L001__KIR_2.fastq.gz',\n",
       "  'IND01825_S49_L001__KIR_1.fastq.gz',\n",
       "  'IND01825_S49_L001__KIR_2.fastq.gz',\n",
       "  'IND01826_S50_L001__KIR_1.fastq.gz',\n",
       "  'IND01826_S50_L001__KIR_2.fastq.gz',\n",
       "  'IND01827_S51_L001__KIR_1.fastq.gz',\n",
       "  'IND01827_S51_L001__KIR_2.fastq.gz',\n",
       "  'IND01828_S52_L001__KIR_1.fastq.gz',\n",
       "  'IND01828_S52_L001__KIR_2.fastq.gz',\n",
       "  'IND01829_S53_L001__KIR_1.fastq.gz',\n",
       "  'IND01829_S53_L001__KIR_2.fastq.gz',\n",
       "  'IND01830_S54_L001__KIR_1.fastq.gz',\n",
       "  'IND01830_S54_L001__KIR_2.fastq.gz',\n",
       "  'IND01831_S55_L001__KIR_1.fastq.gz',\n",
       "  'IND01831_S55_L001__KIR_2.fastq.gz',\n",
       "  'IND01832_S56_L001__KIR_1.fastq.gz',\n",
       "  'IND01832_S56_L001__KIR_2.fastq.gz',\n",
       "  'IND01833_S57_L001__KIR_1.fastq.gz',\n",
       "  'IND01833_S57_L001__KIR_2.fastq.gz',\n",
       "  'IND01834_S58_L001__KIR_1.fastq.gz',\n",
       "  'IND01834_S58_L001__KIR_2.fastq.gz',\n",
       "  'IND01835_S59_L001__KIR_1.fastq.gz',\n",
       "  'IND01835_S59_L001__KIR_2.fastq.gz',\n",
       "  'IND01836_S60_L001__KIR_1.fastq.gz',\n",
       "  'IND01836_S60_L001__KIR_2.fastq.gz',\n",
       "  'IND01837_S61_L001__KIR_1.fastq.gz',\n",
       "  'IND01837_S61_L001__KIR_2.fastq.gz',\n",
       "  'IND01838_S62_L001__KIR_1.fastq.gz',\n",
       "  'IND01838_S62_L001__KIR_2.fastq.gz',\n",
       "  'IND01839_S63_L001__KIR_1.fastq.gz',\n",
       "  'IND01839_S63_L001__KIR_2.fastq.gz',\n",
       "  'IND01840_S64_L001__KIR_1.fastq.gz',\n",
       "  'IND01840_S64_L001__KIR_2.fastq.gz',\n",
       "  'IND01841_S65_L001__KIR_1.fastq.gz',\n",
       "  'IND01841_S65_L001__KIR_2.fastq.gz',\n",
       "  'IND01842_S66_L001__KIR_1.fastq.gz',\n",
       "  'IND01842_S66_L001__KIR_2.fastq.gz',\n",
       "  'IND01843_S67_L001__KIR_1.fastq.gz',\n",
       "  'IND01843_S67_L001__KIR_2.fastq.gz',\n",
       "  'IND01844_S68_L001__KIR_1.fastq.gz',\n",
       "  'IND01844_S68_L001__KIR_2.fastq.gz',\n",
       "  'IND01845_S69_L001__KIR_1.fastq.gz',\n",
       "  'IND01845_S69_L001__KIR_2.fastq.gz',\n",
       "  'IND01846_S70_L001__KIR_1.fastq.gz',\n",
       "  'IND01846_S70_L001__KIR_2.fastq.gz',\n",
       "  'IND01847_S71_L001__KIR_1.fastq.gz',\n",
       "  'IND01847_S71_L001__KIR_2.fastq.gz',\n",
       "  'IND01848_S72_L001__KIR_1.fastq.gz',\n",
       "  'IND01848_S72_L001__KIR_2.fastq.gz',\n",
       "  'IND01849_S73_L001__KIR_1.fastq.gz',\n",
       "  'IND01849_S73_L001__KIR_2.fastq.gz',\n",
       "  'IND01850_S74_L001__KIR_1.fastq.gz',\n",
       "  'IND01850_S74_L001__KIR_2.fastq.gz',\n",
       "  'IND01851_S75_L001__KIR_1.fastq.gz',\n",
       "  'IND01851_S75_L001__KIR_2.fastq.gz',\n",
       "  'IND01852_S76_L001__KIR_1.fastq.gz',\n",
       "  'IND01852_S76_L001__KIR_2.fastq.gz',\n",
       "  'IND01853_S77_L001__KIR_1.fastq.gz',\n",
       "  'IND01853_S77_L001__KIR_2.fastq.gz',\n",
       "  'IND01854_S78_L001__KIR_1.fastq.gz',\n",
       "  'IND01854_S78_L001__KIR_2.fastq.gz',\n",
       "  'IND01855_S79_L001__KIR_1.fastq.gz',\n",
       "  'IND01855_S79_L001__KIR_2.fastq.gz',\n",
       "  'IND01856_S80_L001__KIR_1.fastq.gz',\n",
       "  'IND01856_S80_L001__KIR_2.fastq.gz',\n",
       "  'IND01857_S81_L001__KIR_1.fastq.gz',\n",
       "  'IND01857_S81_L001__KIR_2.fastq.gz',\n",
       "  'IND01858_S82_L001__KIR_1.fastq.gz',\n",
       "  'IND01858_S82_L001__KIR_2.fastq.gz',\n",
       "  'IND01859_S83_L001__KIR_1.fastq.gz',\n",
       "  'IND01859_S83_L001__KIR_2.fastq.gz',\n",
       "  'IND01860_S84_L001__KIR_1.fastq.gz',\n",
       "  'IND01860_S84_L001__KIR_2.fastq.gz',\n",
       "  'IND01861_S85_L001__KIR_1.fastq.gz',\n",
       "  'IND01861_S85_L001__KIR_2.fastq.gz',\n",
       "  'IND01862_S86_L001__KIR_1.fastq.gz',\n",
       "  'IND01862_S86_L001__KIR_2.fastq.gz',\n",
       "  'IND01863_S87_L001__KIR_1.fastq.gz',\n",
       "  'IND01863_S87_L001__KIR_2.fastq.gz',\n",
       "  'IND01864_S88_L001__KIR_1.fastq.gz',\n",
       "  'IND01864_S88_L001__KIR_2.fastq.gz',\n",
       "  'IND01865_S89_L001__KIR_1.fastq.gz',\n",
       "  'IND01865_S89_L001__KIR_2.fastq.gz',\n",
       "  'IND01866_S90_L001__KIR_1.fastq.gz',\n",
       "  'IND01866_S90_L001__KIR_2.fastq.gz',\n",
       "  'IND01867_S91_L001__KIR_1.fastq.gz',\n",
       "  'IND01867_S91_L001__KIR_2.fastq.gz',\n",
       "  'IND01868_S92_L001__KIR_1.fastq.gz',\n",
       "  'IND01868_S92_L001__KIR_2.fastq.gz',\n",
       "  'IND01869_S93_L001__KIR_1.fastq.gz',\n",
       "  'IND01869_S93_L001__KIR_2.fastq.gz',\n",
       "  'IND01870_S94_L001__KIR_1.fastq.gz',\n",
       "  'IND01870_S94_L001__KIR_2.fastq.gz',\n",
       "  'IND01871_S95_L001__KIR_1.fastq.gz',\n",
       "  'IND01871_S95_L001__KIR_2.fastq.gz',\n",
       "  'IND01872_S2_L001__KIR_1.fastq.gz',\n",
       "  'IND01872_S2_L001__KIR_2.fastq.gz',\n",
       "  'IND01873_S3_L001__KIR_1.fastq.gz',\n",
       "  'IND01873_S3_L001__KIR_2.fastq.gz',\n",
       "  'IND01874_S4_L001__KIR_1.fastq.gz',\n",
       "  'IND01874_S4_L001__KIR_2.fastq.gz',\n",
       "  'IND01875_S5_L001__KIR_1.fastq.gz',\n",
       "  'IND01875_S5_L001__KIR_2.fastq.gz',\n",
       "  'IND01876_S6_L001__KIR_1.fastq.gz',\n",
       "  'IND01876_S6_L001__KIR_2.fastq.gz',\n",
       "  'IND01877_S7_L001__KIR_1.fastq.gz',\n",
       "  'IND01877_S7_L001__KIR_2.fastq.gz',\n",
       "  'IND01878_S8_L001__KIR_1.fastq.gz',\n",
       "  'IND01878_S8_L001__KIR_2.fastq.gz',\n",
       "  'IND01879_S9_L001__KIR_1.fastq.gz',\n",
       "  'IND01879_S9_L001__KIR_2.fastq.gz',\n",
       "  'IND01880_S10_L001__KIR_1.fastq.gz',\n",
       "  'IND01880_S10_L001__KIR_2.fastq.gz',\n",
       "  'IND01881_S11_L001__KIR_1.fastq.gz',\n",
       "  'IND01881_S11_L001__KIR_2.fastq.gz',\n",
       "  'IND01882_S12_L001__KIR_1.fastq.gz',\n",
       "  'IND01882_S12_L001__KIR_2.fastq.gz',\n",
       "  'IND01883_S13_L001__KIR_1.fastq.gz',\n",
       "  'IND01883_S13_L001__KIR_2.fastq.gz',\n",
       "  'IND01884_S14_L001__KIR_1.fastq.gz',\n",
       "  'IND01884_S14_L001__KIR_2.fastq.gz',\n",
       "  'IND01885_S15_L001__KIR_1.fastq.gz',\n",
       "  'IND01885_S15_L001__KIR_2.fastq.gz',\n",
       "  'IND01886_S16_L001__KIR_1.fastq.gz',\n",
       "  'IND01886_S16_L001__KIR_2.fastq.gz',\n",
       "  'IND01887_S17_L001__KIR_1.fastq.gz',\n",
       "  'IND01887_S17_L001__KIR_2.fastq.gz',\n",
       "  'IND01888_S18_L001__KIR_1.fastq.gz',\n",
       "  'IND01888_S18_L001__KIR_2.fastq.gz',\n",
       "  'IND01889_S19_L001__KIR_1.fastq.gz',\n",
       "  'IND01889_S19_L001__KIR_2.fastq.gz',\n",
       "  'IND01890_S20_L001__KIR_1.fastq.gz',\n",
       "  'IND01890_S20_L001__KIR_2.fastq.gz',\n",
       "  'IND01891_S21_L001__KIR_1.fastq.gz',\n",
       "  'IND01891_S21_L001__KIR_2.fastq.gz',\n",
       "  'IND01892_S22_L001__KIR_1.fastq.gz',\n",
       "  'IND01892_S22_L001__KIR_2.fastq.gz',\n",
       "  'IND01893_S23_L001__KIR_1.fastq.gz',\n",
       "  'IND01893_S23_L001__KIR_2.fastq.gz',\n",
       "  'IND01894_S24_L001__KIR_1.fastq.gz',\n",
       "  'IND01894_S24_L001__KIR_2.fastq.gz',\n",
       "  'IND01895_S25_L001__KIR_1.fastq.gz',\n",
       "  'IND01895_S25_L001__KIR_2.fastq.gz',\n",
       "  'IND01896_S26_L001__KIR_1.fastq.gz',\n",
       "  'IND01896_S26_L001__KIR_2.fastq.gz',\n",
       "  'IND01897_S27_L001__KIR_1.fastq.gz',\n",
       "  'IND01897_S27_L001__KIR_2.fastq.gz',\n",
       "  'IND01898_S28_L001__KIR_1.fastq.gz',\n",
       "  'IND01898_S28_L001__KIR_2.fastq.gz',\n",
       "  'IND01899_S29_L001__KIR_1.fastq.gz',\n",
       "  'IND01899_S29_L001__KIR_2.fastq.gz',\n",
       "  'IND01900_S30_L001__KIR_1.fastq.gz',\n",
       "  'IND01900_S30_L001__KIR_2.fastq.gz',\n",
       "  'IND01901_S31_L001__KIR_1.fastq.gz',\n",
       "  'IND01901_S31_L001__KIR_2.fastq.gz',\n",
       "  'IND01902_S32_L001__KIR_1.fastq.gz',\n",
       "  'IND01902_S32_L001__KIR_2.fastq.gz',\n",
       "  'IND01903_S33_L001__KIR_1.fastq.gz',\n",
       "  'IND01903_S33_L001__KIR_2.fastq.gz',\n",
       "  'IND01904_S34_L001__KIR_1.fastq.gz',\n",
       "  'IND01904_S34_L001__KIR_2.fastq.gz',\n",
       "  'IND01905_S35_L001__KIR_1.fastq.gz',\n",
       "  'IND01905_S35_L001__KIR_2.fastq.gz',\n",
       "  'IND01906_S36_L001__KIR_1.fastq.gz',\n",
       "  'IND01906_S36_L001__KIR_2.fastq.gz',\n",
       "  'IND01907_S37_L001__KIR_1.fastq.gz',\n",
       "  'IND01907_S37_L001__KIR_2.fastq.gz',\n",
       "  'IND01908_S38_L001__KIR_1.fastq.gz',\n",
       "  'IND01908_S38_L001__KIR_2.fastq.gz',\n",
       "  'IND01909_S39_L001__KIR_1.fastq.gz',\n",
       "  'IND01909_S39_L001__KIR_2.fastq.gz',\n",
       "  'IND01910_S40_L001__KIR_1.fastq.gz',\n",
       "  'IND01910_S40_L001__KIR_2.fastq.gz',\n",
       "  'IND01911_S41_L001__KIR_1.fastq.gz',\n",
       "  'IND01911_S41_L001__KIR_2.fastq.gz',\n",
       "  'IND01912_S42_L001__KIR_1.fastq.gz',\n",
       "  'IND01912_S42_L001__KIR_2.fastq.gz',\n",
       "  'IND01913_S43_L001__KIR_1.fastq.gz',\n",
       "  'IND01913_S43_L001__KIR_2.fastq.gz',\n",
       "  'IND01914_S44_L001__KIR_1.fastq.gz',\n",
       "  'IND01914_S44_L001__KIR_2.fastq.gz',\n",
       "  'IND01915_S45_L001__KIR_1.fastq.gz',\n",
       "  'IND01915_S45_L001__KIR_2.fastq.gz',\n",
       "  'IND01916_S46_L001__KIR_1.fastq.gz',\n",
       "  'IND01916_S46_L001__KIR_2.fastq.gz',\n",
       "  'IND01917_S47_L001__KIR_1.fastq.gz',\n",
       "  'IND01917_S47_L001__KIR_2.fastq.gz',\n",
       "  'IND01918_S48_L001__KIR_1.fastq.gz',\n",
       "  'IND01918_S48_L001__KIR_2.fastq.gz',\n",
       "  'IND01919_S49_L001__KIR_1.fastq.gz',\n",
       "  'IND01919_S49_L001__KIR_2.fastq.gz',\n",
       "  'IND01920_S50_L001__KIR_1.fastq.gz',\n",
       "  'IND01920_S50_L001__KIR_2.fastq.gz',\n",
       "  'IND01921_S51_L001__KIR_1.fastq.gz',\n",
       "  'IND01921_S51_L001__KIR_2.fastq.gz',\n",
       "  'IND01922_S52_L001__KIR_1.fastq.gz',\n",
       "  'IND01922_S52_L001__KIR_2.fastq.gz',\n",
       "  'IND01923_S53_L001__KIR_1.fastq.gz',\n",
       "  'IND01923_S53_L001__KIR_2.fastq.gz',\n",
       "  'IND01924_S54_L001__KIR_1.fastq.gz',\n",
       "  'IND01924_S54_L001__KIR_2.fastq.gz',\n",
       "  'IND01925_S55_L001__KIR_1.fastq.gz',\n",
       "  'IND01925_S55_L001__KIR_2.fastq.gz',\n",
       "  'IND01926_S56_L001__KIR_1.fastq.gz',\n",
       "  'IND01926_S56_L001__KIR_2.fastq.gz',\n",
       "  'IND01927_S57_L001__KIR_1.fastq.gz',\n",
       "  'IND01927_S57_L001__KIR_2.fastq.gz',\n",
       "  'IND01928_S58_L001__KIR_1.fastq.gz',\n",
       "  'IND01928_S58_L001__KIR_2.fastq.gz',\n",
       "  'IND01929_S59_L001__KIR_1.fastq.gz',\n",
       "  'IND01929_S59_L001__KIR_2.fastq.gz',\n",
       "  'IND01930_S60_L001__KIR_1.fastq.gz',\n",
       "  'IND01930_S60_L001__KIR_2.fastq.gz',\n",
       "  'IND01931_S61_L001__KIR_1.fastq.gz',\n",
       "  'IND01931_S61_L001__KIR_2.fastq.gz',\n",
       "  'IND01932_S62_L001__KIR_1.fastq.gz',\n",
       "  'IND01932_S62_L001__KIR_2.fastq.gz',\n",
       "  'IND01933_S63_L001__KIR_1.fastq.gz',\n",
       "  'IND01933_S63_L001__KIR_2.fastq.gz',\n",
       "  'IND01934_S64_L001__KIR_1.fastq.gz',\n",
       "  'IND01934_S64_L001__KIR_2.fastq.gz',\n",
       "  'IND01935_S65_L001__KIR_1.fastq.gz',\n",
       "  'IND01935_S65_L001__KIR_2.fastq.gz',\n",
       "  'IND01936_S66_L001__KIR_1.fastq.gz',\n",
       "  'IND01936_S66_L001__KIR_2.fastq.gz',\n",
       "  'IND01937_S67_L001__KIR_1.fastq.gz',\n",
       "  'IND01937_S67_L001__KIR_2.fastq.gz',\n",
       "  'IND01938_S68_L001__KIR_1.fastq.gz',\n",
       "  'IND01938_S68_L001__KIR_2.fastq.gz',\n",
       "  'IND01939_S69_L001__KIR_1.fastq.gz',\n",
       "  'IND01939_S69_L001__KIR_2.fastq.gz',\n",
       "  'IND01940_S70_L001__KIR_1.fastq.gz',\n",
       "  'IND01940_S70_L001__KIR_2.fastq.gz',\n",
       "  'IND01941_S71_L001__KIR_1.fastq.gz',\n",
       "  'IND01941_S71_L001__KIR_2.fastq.gz',\n",
       "  'IND01942_S72_L001__KIR_1.fastq.gz',\n",
       "  'IND01942_S72_L001__KIR_2.fastq.gz',\n",
       "  'IND01943_S73_L001__KIR_1.fastq.gz',\n",
       "  'IND01943_S73_L001__KIR_2.fastq.gz',\n",
       "  'IND01944_S74_L001__KIR_1.fastq.gz',\n",
       "  'IND01944_S74_L001__KIR_2.fastq.gz',\n",
       "  'IND01945_S75_L001__KIR_1.fastq.gz',\n",
       "  'IND01945_S75_L001__KIR_2.fastq.gz',\n",
       "  'IND01946_S76_L001__KIR_1.fastq.gz',\n",
       "  'IND01946_S76_L001__KIR_2.fastq.gz',\n",
       "  'IND01947_S77_L001__KIR_1.fastq.gz',\n",
       "  'IND01947_S77_L001__KIR_2.fastq.gz',\n",
       "  'IND01948_S78_L001__KIR_1.fastq.gz',\n",
       "  'IND01948_S78_L001__KIR_2.fastq.gz',\n",
       "  'IND01949_S79_L001__KIR_1.fastq.gz',\n",
       "  'IND01949_S79_L001__KIR_2.fastq.gz',\n",
       "  'IND01950_S80_L001__KIR_1.fastq.gz',\n",
       "  'IND01950_S80_L001__KIR_2.fastq.gz',\n",
       "  'IND01951_S81_L001__KIR_1.fastq.gz',\n",
       "  'IND01951_S81_L001__KIR_2.fastq.gz',\n",
       "  'IND01952_S82_L001__KIR_1.fastq.gz',\n",
       "  'IND01952_S82_L001__KIR_2.fastq.gz',\n",
       "  'IND01953_S83_L001__KIR_1.fastq.gz',\n",
       "  'IND01953_S83_L001__KIR_2.fastq.gz',\n",
       "  'IND01954_S84_L001__KIR_1.fastq.gz',\n",
       "  'IND01954_S84_L001__KIR_2.fastq.gz',\n",
       "  'IND01955_S85_L001__KIR_1.fastq.gz',\n",
       "  'IND01955_S85_L001__KIR_2.fastq.gz',\n",
       "  'IND01956_S86_L001__KIR_1.fastq.gz',\n",
       "  'IND01956_S86_L001__KIR_2.fastq.gz',\n",
       "  'IND01957_S87_L001__KIR_1.fastq.gz',\n",
       "  'IND01957_S87_L001__KIR_2.fastq.gz',\n",
       "  'IND01958_S88_L001__KIR_1.fastq.gz',\n",
       "  'IND01958_S88_L001__KIR_2.fastq.gz',\n",
       "  'IND01959_S89_L001__KIR_1.fastq.gz',\n",
       "  'IND01959_S89_L001__KIR_2.fastq.gz',\n",
       "  'IND01960_S90_L001__KIR_1.fastq.gz',\n",
       "  'IND01960_S90_L001__KIR_2.fastq.gz',\n",
       "  'IND01961_S91_L001__KIR_1.fastq.gz',\n",
       "  'IND01961_S91_L001__KIR_2.fastq.gz',\n",
       "  'IND01962_S92_L001__KIR_1.fastq.gz',\n",
       "  'IND01962_S92_L001__KIR_2.fastq.gz',\n",
       "  'IND01963_S93_L001__KIR_1.fastq.gz',\n",
       "  'IND01963_S93_L001__KIR_2.fastq.gz',\n",
       "  'IND01964_S94_L001__KIR_1.fastq.gz',\n",
       "  'IND01964_S94_L001__KIR_2.fastq.gz',\n",
       "  'IND01965_S95_L001__KIR_1.fastq.gz',\n",
       "  'IND01965_S95_L001__KIR_2.fastq.gz',\n",
       "  'IND03137_S82_L001__KIR_1.fastq.gz',\n",
       "  'IND03137_S82_L001__KIR_2.fastq.gz',\n",
       "  'IND03138_S83_L001__KIR_1.fastq.gz',\n",
       "  'IND03138_S83_L001__KIR_2.fastq.gz',\n",
       "  'IND03139_S84_L001__KIR_1.fastq.gz',\n",
       "  'IND03139_S84_L001__KIR_2.fastq.gz',\n",
       "  'IND03140_S85_L001__KIR_1.fastq.gz',\n",
       "  'IND03140_S85_L001__KIR_2.fastq.gz',\n",
       "  'IND03141_S86_L001__KIR_1.fastq.gz',\n",
       "  'IND03141_S86_L001__KIR_2.fastq.gz',\n",
       "  'IND03142_S87_L001__KIR_1.fastq.gz',\n",
       "  'IND03142_S87_L001__KIR_2.fastq.gz',\n",
       "  'IND03143_S88_L001__KIR_1.fastq.gz',\n",
       "  'IND03143_S88_L001__KIR_2.fastq.gz',\n",
       "  'IND03144_S89_L001__KIR_1.fastq.gz',\n",
       "  'IND03144_S89_L001__KIR_2.fastq.gz',\n",
       "  'IND03145_S90_L001__KIR_1.fastq.gz',\n",
       "  'IND03145_S90_L001__KIR_2.fastq.gz',\n",
       "  'IND03146_S91_L001__KIR_1.fastq.gz',\n",
       "  'IND03146_S91_L001__KIR_2.fastq.gz',\n",
       "  'IND03147_S92_L001__KIR_1.fastq.gz',\n",
       "  'IND03147_S92_L001__KIR_2.fastq.gz',\n",
       "  'IND03148_S93_L001__KIR_1.fastq.gz',\n",
       "  'IND03148_S93_L001__KIR_2.fastq.gz',\n",
       "  'IND03149_S94_L001__KIR_1.fastq.gz',\n",
       "  'IND03149_S94_L001__KIR_2.fastq.gz',\n",
       "  'IND03151_S96_L001__KIR_1.fastq.gz',\n",
       "  'IND03151_S96_L001__KIR_2.fastq.gz',\n",
       "  'KIR09GER_S1_L001__KIR_1.fastq.gz',\n",
       "  'KIR09GER_S1_L001__KIR_2.fastq.gz',\n",
       "  'NTC1_S1_L001__KIR_1.fastq.gz',\n",
       "  'NTC1_S1_L001__KIR_2.fastq.gz',\n",
       "  'NTC1_S96_L001__KIR_1.fastq.gz',\n",
       "  'NTC1_S96_L001__KIR_2.fastq.gz'],\n",
       " ['.DS_Store'],\n",
       " ['IND03975_S72_L001_R1_001.fastq.gz', 'IND03975_S72_L001_R2_001.fastq.gz'],\n",
       " ['IND03977_S74_L001_R1_001.fastq.gz', 'IND03977_S74_L001_R2_001.fastq.gz']]"
      ]
     },
     "execution_count": 292,
     "metadata": {},
     "output_type": "execute_result"
    }
   ],
   "source": [
    "print([x[0] for x in os.walk(SampleDirectory)])\n",
    "[x[2] for x in os.walk(SampleDirectory)]"
   ]
  },
  {
   "cell_type": "code",
   "execution_count": 283,
   "metadata": {
    "collapsed": false
   },
   "outputs": [
    {
     "name": "stdout",
     "output_type": "stream",
     "text": [
      "1 matches found for IND03977_S74_L001_R1_001.fastq.gz.\n",
      "Removing IND03977_S74_L001_R1_001.fastq.gz from match consideration.\n",
      "0.00074005126953125\n"
     ]
    }
   ],
   "source": [
    "\n",
    "def match_finder(SampleNameList, SamplePathList):\n",
    "    FoundMatches = {}\n",
    "\n",
    "    while len(SampleNameList) > 0:\n",
    "        sample = SampleNameList[0]\n",
    "        SubStr = \"\"\n",
    "        LastStr = \"\"\n",
    "    \n",
    "        for char in sample:\n",
    "            LastStr = SubStr\n",
    "            SubStr += char\n",
    "            MatchNum = sum([i.count(SubStr) for i in SampleNameList])\n",
    "        \n",
    "            if MatchNum == 1:\n",
    "                MatchIndices = [i for i in range(0, len(SampleNameList)) if LastStr in SampleNameList[i]]\n",
    "            \n",
    "                if len(MatchIndices) is not 2:\n",
    "                    print(\"%s matches found for %s.\" % (len(MatchIndices), sample))\n",
    "                    print(\"Removing %s from match consideration.\" % sample)\n",
    "                    del SampleNameList[0]\n",
    "                    del SamplePathList[0]\n",
    "                    break\n",
    "            \n",
    "                MatchNames = [SampleNameList[i] for i in MatchIndices]\n",
    "                MatchPaths = [SamplePathList[i] for i in MatchIndices]\n",
    "                FoundMatches[LastStr] = {MatchNames[i]: MatchPaths[i] for i in range(0,len(MatchNames))}\n",
    "                for i in sorted(MatchIndices, reverse=True):\n",
    "                    del SampleNameList[i]\n",
    "                    del SamplePathList[i]\n",
    "                break\n",
    "    return(FoundMatches)"
   ]
  },
  {
   "cell_type": "code",
   "execution_count": 285,
   "metadata": {
    "collapsed": false
   },
   "outputs": [
    {
     "ename": "TypeError",
     "evalue": "list indices must be integers or slices, not list",
     "output_type": "error",
     "traceback": [
      "\u001b[0;31m---------------------------------------------------------------------------\u001b[0m",
      "\u001b[0;31mTypeError\u001b[0m                                 Traceback (most recent call last)",
      "\u001b[0;32m<ipython-input-285-84772c85af99>\u001b[0m in \u001b[0;36m<module>\u001b[0;34m()\u001b[0m\n\u001b[1;32m      1\u001b[0m \u001b[0mindexList\u001b[0m \u001b[0;34m=\u001b[0m \u001b[0;34m[\u001b[0m\u001b[0;36m1\u001b[0m\u001b[0;34m]\u001b[0m\u001b[0;34m\u001b[0m\u001b[0m\n\u001b[1;32m      2\u001b[0m \u001b[0mSampleNameList\u001b[0m \u001b[0;34m=\u001b[0m \u001b[0;34m[\u001b[0m\u001b[0;34m\"a\"\u001b[0m\u001b[0;34m,\u001b[0m \u001b[0;34m\"b\"\u001b[0m\u001b[0;34m,\u001b[0m \u001b[0;34m\"c\"\u001b[0m\u001b[0;34m]\u001b[0m\u001b[0;34m\u001b[0m\u001b[0m\n\u001b[0;32m----> 3\u001b[0;31m \u001b[0mSampleNameList\u001b[0m\u001b[0;34m[\u001b[0m\u001b[0mindexList\u001b[0m\u001b[0;34m]\u001b[0m\u001b[0;34m\u001b[0m\u001b[0m\n\u001b[0m",
      "\u001b[0;31mTypeError\u001b[0m: list indices must be integers or slices, not list"
     ]
    }
   ],
   "source": [
    "indexList = [1]\n",
    "SampleNameList = [\"a\", \"b\", \"c\"]\n",
    "SampleNameList[indexList]"
   ]
  },
  {
   "cell_type": "code",
   "execution_count": 284,
   "metadata": {
    "collapsed": false
   },
   "outputs": [
    {
     "data": {
      "text/plain": [
       "{'IND03975_S72_L001_R': {'IND03975_S72_L001_R1_001.fastq.gz': '../RAW_SEQUENCES/Even_Deeper/IND03975-43224285/IND03975_S72_L001_R1_001.fastq.gz',\n",
       "  'IND03975_S72_L001_R2_001.fastq.gz': '../RAW_SEQUENCES/Even_Deeper/IND03975-43224285/IND03975_S72_L001_R2_001.fastq.gz'},\n",
       " 'IND03978_S75_L001_R': {'IND03978_S75_L001_R1_001.fastq.gz': '../RAW_SEQUENCES/IND03978_S75_L001_R1_001.fastq.gz',\n",
       "  'IND03978_S75_L001_R2_001.fastq.gz': '../RAW_SEQUENCES/IND03978_S75_L001_R2_001.fastq.gz'}}"
      ]
     },
     "execution_count": 284,
     "metadata": {},
     "output_type": "execute_result"
    }
   ],
   "source": [
    "FoundMatches"
   ]
  },
  {
   "cell_type": "code",
   "execution_count": 4,
   "metadata": {
    "collapsed": false
   },
   "outputs": [
    {
     "data": {
      "text/plain": [
       "[]"
      ]
     },
     "execution_count": 4,
     "metadata": {},
     "output_type": "execute_result"
    }
   ],
   "source": [
    "my_list = ['one']\n",
    "my_list[0:-1]"
   ]
  },
  {
   "cell_type": "code",
   "execution_count": null,
   "metadata": {
    "collapsed": false
   },
   "outputs": [],
   "source": []
  },
  {
   "cell_type": "code",
   "execution_count": null,
   "metadata": {
    "collapsed": true
   },
   "outputs": [],
   "source": []
  }
 ],
 "metadata": {
  "kernelspec": {
   "display_name": "Python 3",
   "language": "python",
   "name": "python3"
  },
  "language_info": {
   "codemirror_mode": {
    "name": "ipython",
    "version": 3
   },
   "file_extension": ".py",
   "mimetype": "text/x-python",
   "name": "python",
   "nbconvert_exporter": "python",
   "pygments_lexer": "ipython3",
   "version": "3.5.2"
  }
 },
 "nbformat": 4,
 "nbformat_minor": 1
}
